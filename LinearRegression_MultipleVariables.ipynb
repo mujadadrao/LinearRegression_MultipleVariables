{
 "cells": [
  {
   "cell_type": "code",
   "execution_count": 17,
   "metadata": {},
   "outputs": [],
   "source": [
    "import numpy as np\n",
    "import pandas as pd\n",
    "import time\n",
    "import matplotlib.pyplot as plt\n",
    "%matplotlib inline"
   ]
  },
  {
   "cell_type": "markdown",
   "metadata": {},
   "source": [
    "### Generating the Data"
   ]
  },
  {
   "cell_type": "code",
   "execution_count": 18,
   "metadata": {},
   "outputs": [],
   "source": [
    "# A simple function generating data of predictors and responses!\n",
    "def gen_data(filename='kc_house_data.csv', limit=10):\n",
    "    \n",
    "    #Total features to use\n",
    "    n = 2\n",
    "    \n",
    "    #Reading the data from csv\n",
    "    data = np.genfromtxt('kc_house_data.csv', delimiter=',')\n",
    "    \n",
    "    #Reading two features bedrooms and sqft_living\n",
    "    features = data[1:limit+1, [5,3]]\n",
    "        \n",
    "    #Adding constant feature x0\n",
    "    x = np.hstack((np.ones((limit, 1)), features))\n",
    "    \n",
    "    #Reading the predicting variable - price \n",
    "    y = data[1:limit+1, 2]\n",
    "    y = y.reshape(len(y), 1)\n",
    "    \n",
    "    return x, y, n"
   ]
  },
  {
   "cell_type": "markdown",
   "metadata": {},
   "source": [
    "### Normalization Function - Calculation"
   ]
  },
  {
   "cell_type": "code",
   "execution_count": 19,
   "metadata": {},
   "outputs": [],
   "source": [
    "def calculate_normalized(feature):\n",
    "    \n",
    "    res = np.subtract(feature, np.mean(feature))\n",
    "    range_feature = np.max(feature)-np.min(feature)\n",
    "    res = np.divide(res, range_feature)\n",
    "    \n",
    "    return res"
   ]
  },
  {
   "cell_type": "markdown",
   "metadata": {},
   "source": [
    "### Normalization Function - Wrapper"
   ]
  },
  {
   "cell_type": "code",
   "execution_count": 20,
   "metadata": {},
   "outputs": [],
   "source": [
    "def normalize(x, y):\n",
    "    \n",
    "    #x.shape[1] = no. of columns = no, features\n",
    "    #starting from 1 to skip constant feature\n",
    "    for i in range(1, x.shape[1]):\n",
    "        x[:, i] = calculate_normalized(x[:, i])\n",
    "    \n",
    "    #normalizing prediction variable  \n",
    "    y = calculate_normalized(y)\n",
    "    \n",
    "    return x, y\n"
   ]
  },
  {
   "cell_type": "markdown",
   "metadata": {},
   "source": [
    "### Hypothesis Function"
   ]
  },
  {
   "cell_type": "code",
   "execution_count": 21,
   "metadata": {},
   "outputs": [],
   "source": [
    "def calculate_hypothesis(x, params):\n",
    "    \n",
    "    h_of_x = np.dot(x, params)\n",
    "    \n",
    "    return h_of_x"
   ]
  },
  {
   "cell_type": "markdown",
   "metadata": {},
   "source": [
    "### Cost Function "
   ]
  },
  {
   "cell_type": "code",
   "execution_count": 22,
   "metadata": {},
   "outputs": [],
   "source": [
    "def cost_function(x, y, params):\n",
    "    \n",
    "    #Total training examples\n",
    "    m = len(y)\n",
    "    \n",
    "    #Calculating hypothesis (predictions)\n",
    "    h = calculate_hypothesis(x, params)\n",
    "    \n",
    "    #Calculating cost\n",
    "    diff = np.subtract(h, y)\n",
    "    squared_sum = np.sum(np.square(diff))\n",
    "    cost = np.divide(squared_sum, m*2)\n",
    "        \n",
    "    return cost"
   ]
  },
  {
   "cell_type": "markdown",
   "metadata": {},
   "source": [
    "### Function to calculate Sum of Errors (formula) "
   ]
  },
  {
   "cell_type": "code",
   "execution_count": 23,
   "metadata": {},
   "outputs": [],
   "source": [
    "def calculate_sum_of_errors(x, y, params, xi):\n",
    "    \n",
    "    xi = xi.reshape(len(xi), 1)\n",
    "    \n",
    "    #hypothesis h(x)\n",
    "    h_of_x = calculate_hypothesis(x, params)\n",
    "        \n",
    "    #performing calculations\n",
    "    diff = np.subtract(h_of_x, y)\n",
    "    res = np.multiply(diff, xi)\n",
    "    sum_of_errors = np.sum(res)\n",
    "\n",
    "    return sum_of_errors"
   ]
  },
  {
   "cell_type": "markdown",
   "metadata": {},
   "source": [
    "### Gradient Descent Function"
   ]
  },
  {
   "cell_type": "code",
   "execution_count": 24,
   "metadata": {},
   "outputs": [],
   "source": [
    "def gradient_descent(x, y, params, alpha=0.001, precision=0.01, iterations = 1000):\n",
    "    \n",
    "    #Total count of training exmaples and features\n",
    "    m = len(y)\n",
    "    n = len(params)\n",
    "    \n",
    "    #Creating a list for storing our cost function history\n",
    "    cost_history = list()\n",
    "    \n",
    "    #Creating a vector for storing our parameter caches\n",
    "    parameterCaches = np.zeros((n, 1))\n",
    "    \n",
    "    first_iteration = True\n",
    "    its = 0\n",
    "    \n",
    "    while True:\n",
    "        \n",
    "        #Caching the new parameters for simultaneous update\n",
    "        for j in range(0, n):\n",
    "            parameterCaches[j] = params[j] - alpha*(1/m)*calculate_sum_of_errors(x, y, params, x[:, j])\n",
    "        \n",
    "        #Fail-safe\n",
    "        if(sum(1 for val in parameterCaches if val < 0) >0):\n",
    "            print(\"Fail safe activated\")\n",
    "            break\n",
    "        \n",
    "        #Updating the parameters simultaneously\n",
    "        for j in range(0, n):\n",
    "            params[j] = parameterCaches[j]\n",
    "        \n",
    "        #Keeping track of the history of cost\n",
    "        current_cost = cost_function(x, y, params)\n",
    "        \n",
    "#         print(\"theta0 = {} | theta1 = {} | theta2 = {} | cost = {} | iterations = {}\".format(params[0],params[1],params[2], current_cost, its))\n",
    "#         print()\n",
    "        \n",
    "        if not(first_iteration) and ((cost_history[-1] - current_cost) <= precision):\n",
    "            print(\"Precision naileddd!\")\n",
    "            break\n",
    "                \n",
    "        if first_iteration:\n",
    "            first_iteration = False\n",
    "        \n",
    "        cost_history.append(current_cost)\n",
    "        \n",
    "        its +=1\n",
    "        \n",
    "        if its == iterations:\n",
    "            break\n",
    "            \n",
    "    return params, cost_history, its\n",
    "    "
   ]
  },
  {
   "cell_type": "code",
   "execution_count": 25,
   "metadata": {
    "scrolled": true
   },
   "outputs": [],
   "source": [
    "x, y, n = gen_data(limit=100)\n",
    "params = np.ones((n+1, 1)) #theta0 theta1 theta2"
   ]
  },
  {
   "cell_type": "code",
   "execution_count": 26,
   "metadata": {},
   "outputs": [],
   "source": [
    "#x, y = normalize(x, y)"
   ]
  },
  {
   "cell_type": "code",
   "execution_count": 27,
   "metadata": {
    "scrolled": false
   },
   "outputs": [
    {
     "data": {
      "text/plain": [
       "Text(0,0.5,'price')"
      ]
     },
     "execution_count": 27,
     "metadata": {},
     "output_type": "execute_result"
    },
    {
     "data": {
      "image/png": "[encoded data removed]",
      "text/plain": [
       "<Figure size 432x288 with 1 Axes>"
      ]
     },
     "metadata": {},
     "output_type": "display_data"
    }
   ],
   "source": [
    "plt.scatter(x[:, 1], y)\n",
    "plt.xlabel(\"sqft_living\")\n",
    "plt.ylabel(\"price\")"
   ]
  },
  {
   "cell_type": "code",
   "execution_count": 28,
   "metadata": {
    "scrolled": true
   },
   "outputs": [
    {
     "data": {
      "text/plain": [
       "Text(0,0.5,'price')"
      ]
     },
     "execution_count": 28,
     "metadata": {},
     "output_type": "execute_result"
    },
    {
     "data": {
      "image/png": "[encoded data removed]",
      "text/plain": [
       "<Figure size 432x288 with 1 Axes>"
      ]
     },
     "metadata": {},
     "output_type": "display_data"
    }
   ],
   "source": [
    "plt.scatter(x[:, 2], y)\n",
    "plt.xlabel(\"#bedrooms\")\n",
    "plt.ylabel(\"price\")"
   ]
  },
  {
   "cell_type": "code",
   "execution_count": 29,
   "metadata": {
    "scrolled": true
   },
   "outputs": [],
   "source": [
    "params = np.ones((n+1, 1)) #theta0 theta1 theta2\n",
    "params, cost_hist, its = gradient_descent(x, y, params, alpha=0.000000001, precision= 0.0000001)"
   ]
  },
  {
   "cell_type": "markdown",
   "metadata": {},
   "source": [
    "### Cost History against iterations"
   ]
  },
  {
   "cell_type": "code",
   "execution_count": 30,
   "metadata": {},
   "outputs": [
    {
     "data": {
      "text/plain": [
       "Text(0,0.5,'Cost')"
      ]
     },
     "execution_count": 30,
     "metadata": {},
     "output_type": "execute_result"
    },
    {
     "data": {
      "image/png": "[encoded data removed]",
      "text/plain": [
       "<Figure size 432x288 with 1 Axes>"
      ]
     },
     "metadata": {},
     "output_type": "display_data"
    }
   ],
   "source": [
    "cost_hist = np.array(cost_hist)\n",
    "iterations = np.arange(1, its+1)\n",
    "\n",
    "plt.plot(iterations, cost_hist)\n",
    "plt.xlabel(\"No. of iterations\")\n",
    "plt.ylabel(\"Cost\")"
   ]
  },
  {
   "cell_type": "code",
   "execution_count": 31,
   "metadata": {
    "scrolled": true
   },
   "outputs": [
    {
     "name": "stdout",
     "output_type": "stream",
     "text": [
      "theta0 = [1.10528607] | theta1 = [244.42942627] | theta2 = [1.36749803]\n"
     ]
    }
   ],
   "source": [
    "print(\"theta0 = {} | theta1 = {} | theta2 = {}\".format(params[0], params[1], params[2]))"
   ]
  },
  {
   "cell_type": "code",
   "execution_count": 32,
   "metadata": {
    "scrolled": false
   },
   "outputs": [
    {
     "data": {
      "text/plain": [
       "Text(0,0.5,'Price')"
      ]
     },
     "execution_count": 32,
     "metadata": {},
     "output_type": "execute_result"
    },
    {
     "data": {
      "image/png": "[encoded data removed]",
      "text/plain": [
       "<Figure size 432x288 with 1 Axes>"
      ]
     },
     "metadata": {},
     "output_type": "display_data"
    }
   ],
   "source": [
    "price = calculate_hypothesis(x, params)\n",
    "plt.scatter(x[:, 1], y)\n",
    "plt.plot(x[:, 1], price, color='r')\n",
    "plt.xlabel(\"sqft_living\")\n",
    "plt.ylabel(\"Price\")"
   ]
  },
  {
   "cell_type": "code",
   "execution_count": null,
   "metadata": {},
   "outputs": [],
   "source": []
  },
  {
   "cell_type": "code",
   "execution_count": null,
   "metadata": {},
   "outputs": [],
   "source": []
  }
 ],
 "metadata": {
  "kernelspec": {
   "display_name": "Python 3",
   "language": "python",
   "name": "python3"
  },
  "language_info": {
   "codemirror_mode": {
    "name": "ipython",
    "version": 3
   },
   "file_extension": ".py",
   "mimetype": "text/x-python",
   "name": "python",
   "nbconvert_exporter": "python",
   "pygments_lexer": "ipython3",
   "version": "3.5.2"
  }
 },
 "nbformat": 4,
 "nbformat_minor": 2
}
