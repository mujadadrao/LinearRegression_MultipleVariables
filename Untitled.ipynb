{
 "cells": [
  {
   "cell_type": "code",
   "execution_count": null,
   "metadata": {},
   "outputs": [],
   "source": [
    "Obtained Parameters: \n",
    " [[   6.92615715]\n",
    " [  -0.50960231]\n",
    " [ 117.70713106]\n",
    " [-362.69633754]\n",
    " [ 204.78552364]\n",
    " [-106.93628187]\n",
    " [  72.07787604]\n",
    " [ -26.59611831]\n",
    " [  21.21050926]\n",
    " [  -5.82603253]\n",
    " [   6.36889423]\n",
    " [  -0.67548052]\n",
    " [   2.38538891]\n",
    " [   0.58888646]\n",
    " [   1.35247631]\n",
    " [   0.89893172]\n",
    " [   1.08901639]]\n"
   ]
  }
 ],
 "metadata": {
  "kernelspec": {
   "display_name": "Python 3",
   "language": "python",
   "name": "python3"
  },
  "language_info": {
   "codemirror_mode": {
    "name": "ipython",
    "version": 3
   },
   "file_extension": ".py",
   "mimetype": "text/x-python",
   "name": "python",
   "nbconvert_exporter": "python",
   "pygments_lexer": "ipython3",
   "version": "3.5.2"
  }
 },
 "nbformat": 4,
 "nbformat_minor": 2
}
