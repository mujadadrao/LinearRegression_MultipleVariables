{
 "cells": [
  {
   "cell_type": "code",
   "execution_count": 654,
   "metadata": {},
   "outputs": [],
   "source": [
    "import numpy as np\n",
    "import pandas as pd\n",
    "import time\n",
    "import matplotlib.pyplot as plt\n",
    "%matplotlib inline"
   ]
  },
  {
   "cell_type": "markdown",
   "metadata": {},
   "source": [
    "### Generating the Data"
   ]
  },
  {
   "cell_type": "code",
   "execution_count": 655,
   "metadata": {},
   "outputs": [],
   "source": [
    "def gen_data_polynomial(start=10, end=1000, step=2, degree=2, normalized=False):\n",
    "    \n",
    "    x1 = np.array(range(start, end, step)).reshape(-1, 1)\n",
    "    y_org = np.add(np.add(np.multiply(x1, 100), np.multiply(np.square(x1), 80)), 5)\n",
    "    \n",
    "    if normalized:\n",
    "        x1 = calculate_normalized(x1)\n",
    "    \n",
    "    #y = 5 + 10*x + 7*(x**2)    \n",
    "    y = np.add(np.add(np.multiply(x1, 100), np.multiply(np.square(x1), 80)), 5)\n",
    "        \n",
    "    #Adding constant feature x0\n",
    "    x = np.hstack((np.ones(x1.shape), x1))\n",
    "\n",
    "    #Adding polynomial features\n",
    "    for degree in range (2, degree+1):\n",
    "        new_feature = np.power(x1, degree)\n",
    "        x = np.hstack((x, new_feature))\n",
    "    \n",
    "    params = np.ones((degree+1, 1))\n",
    "    \n",
    "    return x,y,params,y_org"
   ]
  },
  {
   "cell_type": "markdown",
   "metadata": {},
   "source": [
    "### Normalization Function - Calculation"
   ]
  },
  {
   "cell_type": "code",
   "execution_count": 656,
   "metadata": {},
   "outputs": [],
   "source": [
    "def calculate_normalized(feature):\n",
    "    \n",
    "    res = np.subtract(feature, np.mean(feature))\n",
    "    range_feature = np.max(feature)-np.min(feature)\n",
    "    res = np.divide(res, range_feature)\n",
    "    \n",
    "    return res"
   ]
  },
  {
   "cell_type": "markdown",
   "metadata": {},
   "source": [
    "### Normalization Function - Wrapper"
   ]
  },
  {
   "cell_type": "code",
   "execution_count": 657,
   "metadata": {},
   "outputs": [],
   "source": [
    "def normalize(x, y=None):\n",
    "    \n",
    "    #x.shape[1] = no. of columns = no, features\n",
    "    #starting from 1 to skip constant feature\n",
    "    for i in range(1, x.shape[1]):\n",
    "        x[:, i] = calculate_normalized(x[:, i])\n",
    "    \n",
    "    if y is not None:\n",
    "        #normalizing prediction variable  \n",
    "        y = calculate_normalized(y)\n",
    "        return x, y\n",
    "    \n",
    "    return x\n"
   ]
  },
  {
   "cell_type": "markdown",
   "metadata": {},
   "source": [
    "### Hypothesis Function"
   ]
  },
  {
   "cell_type": "code",
   "execution_count": 658,
   "metadata": {},
   "outputs": [],
   "source": [
    "def calculate_hypothesis(x, params):\n",
    "    \n",
    "    h_of_x = np.dot(x, params)\n",
    "    \n",
    "    return h_of_x"
   ]
  },
  {
   "cell_type": "markdown",
   "metadata": {},
   "source": [
    "### Cost Function "
   ]
  },
  {
   "cell_type": "code",
   "execution_count": 659,
   "metadata": {},
   "outputs": [],
   "source": [
    "def cost_function(x, y, params):\n",
    "    \n",
    "    #Total training examples\n",
    "    m = len(y)\n",
    "    \n",
    "    #Calculating hypothesis (predictions)\n",
    "    h = calculate_hypothesis(x, params)\n",
    "    \n",
    "    #Calculating cost\n",
    "    diff = np.subtract(h, y)\n",
    "    squared_sum = np.sum(np.square(diff))\n",
    "    cost = np.divide(squared_sum, m*2)\n",
    "        \n",
    "    return cost"
   ]
  },
  {
   "cell_type": "markdown",
   "metadata": {},
   "source": [
    "### Function to calculate Sum of Errors (formula) "
   ]
  },
  {
   "cell_type": "code",
   "execution_count": 660,
   "metadata": {},
   "outputs": [],
   "source": [
    "def calculate_sum_of_errors(x, y, params, xi):\n",
    "    \n",
    "    xi = xi.reshape(len(xi), 1)\n",
    "\n",
    "    #hypothesis h(x)\n",
    "    h_of_x = calculate_hypothesis(x, params)\n",
    "        \n",
    "    #performing calculations\n",
    "    diff = np.subtract(h_of_x, y)\n",
    "    res = np.multiply(diff, xi)\n",
    "    sum_of_errors = np.sum(res)\n",
    "\n",
    "    return sum_of_errors"
   ]
  },
  {
   "cell_type": "markdown",
   "metadata": {},
   "source": [
    "### Gradient Descent Function"
   ]
  },
  {
   "cell_type": "code",
   "execution_count": 661,
   "metadata": {},
   "outputs": [],
   "source": [
    "def gradient_descent(x, y, params, alpha=0.001, precision=0.01, iterations = 0):\n",
    "    \n",
    "    #Total count of training exmaples and features\n",
    "    m = len(y)\n",
    "    n = len(params)\n",
    "    \n",
    "    #Creating a list for storing our cost function history\n",
    "    cost_history = list()\n",
    "    \n",
    "    #Creating a vector for storing our parameter caches\n",
    "    parameterCaches = np.ones((n, 1))\n",
    "    \n",
    "    first_iteration = True\n",
    "    its = 0\n",
    "    iterate = False\n",
    "    \n",
    "    if iterations > 0:\n",
    "        iterate = True\n",
    "    \n",
    "    while True:\n",
    "        \n",
    "        #Caching the new parameters for simultaneous update\n",
    "        magnitude = 0\n",
    "        for j in range(0, n):\n",
    "            gradient = (1/m)*calculate_sum_of_errors(x, y, params, x[:, j])\n",
    "            magnitude += gradient**2\n",
    "            parameterCaches[j] = params[j] - alpha*gradient\n",
    "\n",
    "        magnitude = np.sqrt(magnitude)\n",
    "\n",
    "            \n",
    "        #Fail-safe\n",
    "        if(sum(1 for val in parameterCaches if val < 0) > 0):\n",
    "            print(\"Fail safe activated\")\n",
    "            break\n",
    "        \n",
    "        #Updating the parameters simultaneously\n",
    "        for j in range(0, n):\n",
    "            params[j] = parameterCaches[j]\n",
    "        \n",
    "        #Keeping track of the history of cost\n",
    "        current_cost = cost_function(x, y, params)\n",
    "        \n",
    "#         if its%100 == 0:\n",
    "#             print(\"theta0 = {} | theta1 = {} | theta2 = {} | cost = {} | magnitude = {}\\n\".format(params[0],params[1],params[2], current_cost, magnitude))\n",
    "            \n",
    "        \n",
    "        if not(first_iteration) and ((cost_history[-1] - current_cost) <= precision):\n",
    "            print(\"Precision naileddd!\")\n",
    "            break\n",
    "                \n",
    "        if first_iteration:\n",
    "            first_iteration = False\n",
    "        \n",
    "        cost_history.append(current_cost)\n",
    "        \n",
    "        its +=1\n",
    "        \n",
    "        if iterate and (its == iterations):\n",
    "            break\n",
    "            \n",
    "    return params, cost_history, its\n",
    "    "
   ]
  },
  {
   "cell_type": "code",
   "execution_count": 662,
   "metadata": {
    "scrolled": true
   },
   "outputs": [],
   "source": [
    "degree = 2\n",
    "x, y, params, y_org = gen_data_polynomial(end=100, degree=degree, normalized=True)"
   ]
  },
  {
   "cell_type": "code",
   "execution_count": 663,
   "metadata": {},
   "outputs": [
    {
     "data": {
      "text/plain": [
       "array([[-25.        ],\n",
       "       [-24.50413223],\n",
       "       [-23.92561983],\n",
       "       [-23.26446281],\n",
       "       [-22.52066116],\n",
       "       [-21.69421488],\n",
       "       [-20.78512397],\n",
       "       [-19.79338843],\n",
       "       [-18.71900826],\n",
       "       [-17.56198347],\n",
       "       [-16.32231405],\n",
       "       [-15.        ],\n",
       "       [-13.59504132],\n",
       "       [-12.10743802],\n",
       "       [-10.53719008],\n",
       "       [ -8.88429752],\n",
       "       [ -7.14876033],\n",
       "       [ -5.33057851],\n",
       "       [ -3.42975207],\n",
       "       [ -1.44628099],\n",
       "       [  0.61983471],\n",
       "       [  2.76859504],\n",
       "       [  5.        ],\n",
       "       [  7.31404959],\n",
       "       [  9.7107438 ],\n",
       "       [ 12.19008264],\n",
       "       [ 14.75206612],\n",
       "       [ 17.39669421],\n",
       "       [ 20.12396694],\n",
       "       [ 22.9338843 ],\n",
       "       [ 25.82644628],\n",
       "       [ 28.80165289],\n",
       "       [ 31.85950413],\n",
       "       [ 35.        ],\n",
       "       [ 38.2231405 ],\n",
       "       [ 41.52892562],\n",
       "       [ 44.91735537],\n",
       "       [ 48.38842975],\n",
       "       [ 51.94214876],\n",
       "       [ 55.5785124 ],\n",
       "       [ 59.29752066],\n",
       "       [ 63.09917355],\n",
       "       [ 66.98347107],\n",
       "       [ 70.95041322],\n",
       "       [ 75.        ]])"
      ]
     },
     "execution_count": 663,
     "metadata": {},
     "output_type": "execute_result"
    }
   ],
   "source": [
    "y"
   ]
  },
  {
   "cell_type": "code",
   "execution_count": 664,
   "metadata": {},
   "outputs": [
    {
     "data": {
      "text/plain": [
       "array([[  9005],\n",
       "       [ 12725],\n",
       "       [ 17085],\n",
       "       [ 22085],\n",
       "       [ 27725],\n",
       "       [ 34005],\n",
       "       [ 40925],\n",
       "       [ 48485],\n",
       "       [ 56685],\n",
       "       [ 65525],\n",
       "       [ 75005],\n",
       "       [ 85125],\n",
       "       [ 95885],\n",
       "       [107285],\n",
       "       [119325],\n",
       "       [132005],\n",
       "       [145325],\n",
       "       [159285],\n",
       "       [173885],\n",
       "       [189125],\n",
       "       [205005],\n",
       "       [221525],\n",
       "       [238685],\n",
       "       [256485],\n",
       "       [274925],\n",
       "       [294005],\n",
       "       [313725],\n",
       "       [334085],\n",
       "       [355085],\n",
       "       [376725],\n",
       "       [399005],\n",
       "       [421925],\n",
       "       [445485],\n",
       "       [469685],\n",
       "       [494525],\n",
       "       [520005],\n",
       "       [546125],\n",
       "       [572885],\n",
       "       [600285],\n",
       "       [628325],\n",
       "       [657005],\n",
       "       [686325],\n",
       "       [716285],\n",
       "       [746885],\n",
       "       [778125]])"
      ]
     },
     "execution_count": 664,
     "metadata": {},
     "output_type": "execute_result"
    }
   ],
   "source": [
    "y_org"
   ]
  },
  {
   "cell_type": "code",
   "execution_count": 670,
   "metadata": {},
   "outputs": [
    {
     "data": {
      "text/plain": [
       "[<matplotlib.lines.Line2D at 0x7fc399870898>]"
      ]
     },
     "execution_count": 670,
     "metadata": {},
     "output_type": "execute_result"
    },
    {
     "data": {
      "image/png": "[encoded data removed]",
      "text/plain": [
       "<Figure size 432x288 with 1 Axes>"
      ]
     },
     "metadata": {},
     "output_type": "display_data"
    }
   ],
   "source": [
    "plt.plot(y, y_org)"
   ]
  },
  {
   "cell_type": "code",
   "execution_count": 665,
   "metadata": {
    "scrolled": true
   },
   "outputs": [
    {
     "data": {
      "text/plain": [
       "Text(0,0.5,'y')"
      ]
     },
     "execution_count": 665,
     "metadata": {},
     "output_type": "execute_result"
    },
    {
     "data": {
      "image/png": "[encoded data removed]",
      "text/plain": [
       "<Figure size 432x288 with 1 Axes>"
      ]
     },
     "metadata": {},
     "output_type": "display_data"
    }
   ],
   "source": [
    "plt.scatter(x[:, 1], y)\n",
    "plt.xlabel(\"x^1\")\n",
    "plt.ylabel(\"y\")"
   ]
  },
  {
   "cell_type": "code",
   "execution_count": 666,
   "metadata": {
    "scrolled": true
   },
   "outputs": [],
   "source": [
    "params = np.ones((degree+1, 1))\n",
    "theta, cost_hist, its = gradient_descent(x, y, params, alpha=0.01, precision= 0.00000001, iterations=100000)"
   ]
  },
  {
   "cell_type": "code",
   "execution_count": 667,
   "metadata": {},
   "outputs": [
    {
     "name": "stdout",
     "output_type": "stream",
     "text": [
      "theta0 = [5.0166659] | theta1 = [100.] | theta2 = [79.80985552]\n"
     ]
    }
   ],
   "source": [
    "print(\"theta0 = {} | theta1 = {} | theta2 = {}\".format(params[0], params[1], params[2]))"
   ]
  },
  {
   "cell_type": "markdown",
   "metadata": {},
   "source": [
    "### Cost History against iterations"
   ]
  },
  {
   "cell_type": "code",
   "execution_count": 668,
   "metadata": {
    "scrolled": false
   },
   "outputs": [
    {
     "data": {
      "text/plain": [
       "Text(0,0.5,'Cost')"
      ]
     },
     "execution_count": 668,
     "metadata": {},
     "output_type": "execute_result"
    },
    {
     "data": {
      "image/png": "[encoded data removed]",
      "text/plain": [
       "<Figure size 432x288 with 1 Axes>"
      ]
     },
     "metadata": {},
     "output_type": "display_data"
    }
   ],
   "source": [
    "cost_hist = np.array(cost_hist)\n",
    "iterations = np.arange(1, its+1)\n",
    "\n",
    "plt.plot(iterations, cost_hist)\n",
    "plt.xlabel(\"No. of iterations\")\n",
    "plt.ylabel(\"Cost\")"
   ]
  },
  {
   "cell_type": "code",
   "execution_count": 669,
   "metadata": {
    "scrolled": false
   },
   "outputs": [
    {
     "data": {
      "text/plain": [
       "Text(0,0.5,'y')"
      ]
     },
     "execution_count": 669,
     "metadata": {},
     "output_type": "execute_result"
    },
    {
     "data": {
      "image/png": "[encoded data removed]",
      "text/plain": [
       "<Figure size 432x288 with 1 Axes>"
      ]
     },
     "metadata": {},
     "output_type": "display_data"
    }
   ],
   "source": [
    "predicted_price = calculate_hypothesis(x, params)\n",
    "# print(price)\n",
    "plt.scatter(x[:, 1], y)\n",
    "plt.plot(x[:, 1], predicted_price, color='r')\n",
    "\n",
    "plt.xlabel(\"x\")\n",
    "plt.ylabel(\"y\")"
   ]
  },
  {
   "cell_type": "code",
   "execution_count": null,
   "metadata": {},
   "outputs": [],
   "source": []
  },
  {
   "cell_type": "code",
   "execution_count": null,
   "metadata": {},
   "outputs": [],
   "source": []
  },
  {
   "cell_type": "code",
   "execution_count": null,
   "metadata": {},
   "outputs": [],
   "source": []
  },
  {
   "cell_type": "code",
   "execution_count": null,
   "metadata": {},
   "outputs": [],
   "source": []
  }
 ],
 "metadata": {
  "kernelspec": {
   "display_name": "Python 3",
   "language": "python",
   "name": "python3"
  },
  "language_info": {
   "codemirror_mode": {
    "name": "ipython",
    "version": 3
   },
   "file_extension": ".py",
   "mimetype": "text/x-python",
   "name": "python",
   "nbconvert_exporter": "python",
   "pygments_lexer": "ipython3",
   "version": "3.5.2"
  }
 },
 "nbformat": 4,
 "nbformat_minor": 2
}
