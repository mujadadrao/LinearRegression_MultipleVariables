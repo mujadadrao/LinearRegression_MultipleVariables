{
 "cells": [
  {
   "cell_type": "code",
   "execution_count": 222,
   "metadata": {},
   "outputs": [],
   "source": [
    "import numpy as np\n",
    "import pandas as pd\n",
    "import time\n",
    "import matplotlib.pyplot as plt\n",
    "%matplotlib inline"
   ]
  },
  {
   "cell_type": "markdown",
   "metadata": {},
   "source": [
    "### Generating the Data"
   ]
  },
  {
   "cell_type": "code",
   "execution_count": 223,
   "metadata": {},
   "outputs": [],
   "source": [
    "def gen_data_polynomial(start=10, end=1000, step=2, degree=2, normalized=False):\n",
    "    \n",
    "    x1 = np.array(range(start, end, step)).reshape(-1, 1)\n",
    "    y_org = np.add(np.add(np.multiply(x1, 100), np.multiply(np.square(x1), 80)), 5)\n",
    "    \n",
    "    if normalized:\n",
    "        x1 = calculate_normalized(x1)\n",
    "    \n",
    "    #y = 5 + 10*x + 7*(x**2)    \n",
    "    y = np.add(np.add(np.multiply(x1, 100), np.multiply(np.square(x1), 80)), 5)\n",
    "        \n",
    "    #Adding constant feature x0\n",
    "    x = np.hstack((np.ones(x1.shape), x1))\n",
    "\n",
    "    #Adding polynomial features\n",
    "    for degree in range (2, degree+1):\n",
    "        new_feature = np.power(x1, degree)\n",
    "        x = np.hstack((x, new_feature))\n",
    "    \n",
    "    params = np.ones((degree+1, 1))\n",
    "    \n",
    "    return x,y,params,y_org"
   ]
  },
  {
   "cell_type": "markdown",
   "metadata": {},
   "source": [
    "### Normalization Function - Calculation"
   ]
  },
  {
   "cell_type": "code",
   "execution_count": 224,
   "metadata": {},
   "outputs": [],
   "source": [
    "def calculate_normalized(feature):\n",
    "    \n",
    "    res = np.subtract(feature, np.mean(feature))\n",
    "    range_feature = np.max(feature)-np.min(feature)\n",
    "    res = np.divide(res, range_feature)\n",
    "    \n",
    "    return res"
   ]
  },
  {
   "cell_type": "markdown",
   "metadata": {},
   "source": [
    "### Normalization Function - Wrapper"
   ]
  },
  {
   "cell_type": "code",
   "execution_count": 225,
   "metadata": {},
   "outputs": [],
   "source": [
    "def normalize(x, y=None):\n",
    "    \n",
    "    #x.shape[1] = no. of columns = no, features\n",
    "    #starting from 1 to skip constant feature\n",
    "    for i in range(1, x.shape[1]):\n",
    "        x[:, i] = calculate_normalized(x[:, i])\n",
    "    \n",
    "    if y is not None:\n",
    "        #normalizing prediction variable  \n",
    "        y = calculate_normalized(y)\n",
    "        return x, y\n",
    "    \n",
    "    return x\n"
   ]
  },
  {
   "cell_type": "markdown",
   "metadata": {},
   "source": [
    "### Hypothesis Function"
   ]
  },
  {
   "cell_type": "code",
   "execution_count": 226,
   "metadata": {},
   "outputs": [],
   "source": [
    "def calculate_hypothesis(x, params):\n",
    "    \n",
    "    h_of_x = np.dot(x, params)\n",
    "    \n",
    "    return h_of_x"
   ]
  },
  {
   "cell_type": "markdown",
   "metadata": {},
   "source": [
    "### Cost Function "
   ]
  },
  {
   "cell_type": "code",
   "execution_count": 227,
   "metadata": {},
   "outputs": [],
   "source": [
    "def cost_function(x, y, params):\n",
    "    \n",
    "    #Total training examples\n",
    "    m = len(y)\n",
    "    \n",
    "    #Calculating hypothesis (predictions)\n",
    "    h = calculate_hypothesis(x, params)\n",
    "    \n",
    "    #Calculating cost\n",
    "    diff = np.subtract(h, y)\n",
    "    squared_sum = np.sum(np.square(diff))\n",
    "    cost = np.divide(squared_sum, m*2)\n",
    "        \n",
    "    return cost"
   ]
  },
  {
   "cell_type": "markdown",
   "metadata": {},
   "source": [
    "### Function to calculate Sum of Errors (formula) "
   ]
  },
  {
   "cell_type": "code",
   "execution_count": 238,
   "metadata": {},
   "outputs": [],
   "source": [
    "def calculate_sum_of_errors(x, y, params, xi):\n",
    "    \n",
    "    xi = xi.reshape(len(xi), 1)\n",
    "\n",
    "    #hypothesis h(x)\n",
    "    h_of_x = calculate_hypothesis(x, params)\n",
    "        \n",
    "    #performing calculations\n",
    "    diff = np.subtract(h_of_x, y)\n",
    "    res = np.multiply(diff, xi)\n",
    "    sum_of_errors = np.sum(res)\n",
    "\n",
    "    return sum_of_errors"
   ]
  },
  {
   "cell_type": "code",
   "execution_count": 239,
   "metadata": {},
   "outputs": [],
   "source": [
    "def calculate_sum_of_errors_vect(x, y, params):\n",
    "\n",
    "    #hypothesis h(x)\n",
    "    h_of_x = calculate_hypothesis(x, params)\n",
    "        \n",
    "    #performing calculations\n",
    "    diff = np.subtract(h_of_x, y)\n",
    "    sum_of_errors = np.dot(x.transpose(), diff)\n",
    "\n",
    "    return sum_of_errors"
   ]
  },
  {
   "cell_type": "markdown",
   "metadata": {},
   "source": [
    "### Gradient Descent Function"
   ]
  },
  {
   "cell_type": "code",
   "execution_count": 230,
   "metadata": {},
   "outputs": [],
   "source": [
    "def gradient_descent(x, y, params, alpha=0.001, precision=0.01, iterations = 0):\n",
    "    \n",
    "    #Total count of training exmaples and features\n",
    "    m = len(y)\n",
    "    n = len(params)\n",
    "    \n",
    "    #Creating a list for storing our cost function history\n",
    "    cost_history = list()\n",
    "    \n",
    "    first_iteration = True\n",
    "    its = 0\n",
    "    iterate = False\n",
    "    \n",
    "    if iterations > 0:\n",
    "        iterate = True\n",
    "    \n",
    "    while True:\n",
    "        \n",
    "        gradients = np.multiply(calculate_sum_of_errors_vect(x, y, params), 1/m)\n",
    "        res = np.multiply(gradients, alpha)\n",
    "        params = np.subtract(params, res)\n",
    "        \n",
    "        #Fail-safe\n",
    "        if(sum(1 for val in params if val < 0) > 0):\n",
    "            print(\"Fail safe activated\")\n",
    "            break\n",
    "\n",
    "        #Keeping track of the history of cost\n",
    "        current_cost = cost_function(x, y, params)\n",
    "        \n",
    "#         if its%100 == 0:\n",
    "#         print(\"theta0 = {} | theta1 = {} | theta2 = {} | cost = {} \\n\".format(params[0],params[1],params[2], current_cost))\n",
    "            \n",
    "        \n",
    "        if not(first_iteration) and ((cost_history[-1] - current_cost) <= precision):\n",
    "            print(\"Precision naileddd!\")\n",
    "            break\n",
    "                \n",
    "        if first_iteration:\n",
    "            first_iteration = False\n",
    "        \n",
    "        cost_history.append(current_cost)\n",
    "        \n",
    "        its +=1\n",
    "        \n",
    "        if iterate and (its == iterations):\n",
    "            break\n",
    "            \n",
    "    return params, cost_history, its\n",
    "    "
   ]
  },
  {
   "cell_type": "code",
   "execution_count": 231,
   "metadata": {
    "scrolled": true
   },
   "outputs": [],
   "source": [
    "degree = 2\n",
    "x, y, params, y_org = gen_data_polynomial(end=100, degree=degree, normalized=True)"
   ]
  },
  {
   "cell_type": "code",
   "execution_count": 233,
   "metadata": {
    "scrolled": true
   },
   "outputs": [
    {
     "data": {
      "text/plain": [
       "Text(0,0.5,'y')"
      ]
     },
     "execution_count": 233,
     "metadata": {},
     "output_type": "execute_result"
    },
    {
     "data": {
      "image/png": "[encoded data removed]",
      "text/plain": [
       "<Figure size 432x288 with 1 Axes>"
      ]
     },
     "metadata": {},
     "output_type": "display_data"
    }
   ],
   "source": [
    "plt.scatter(x[:, 1], y)\n",
    "plt.xlabel(\"x^1\")\n",
    "plt.ylabel(\"y\")"
   ]
  },
  {
   "cell_type": "code",
   "execution_count": 234,
   "metadata": {
    "scrolled": true
   },
   "outputs": [],
   "source": [
    "params = np.ones((degree+1, 1))\n",
    "theta, cost_hist, its = gradient_descent(x, y, params, alpha=0.01, precision= 0.00000001, iterations=100000)"
   ]
  },
  {
   "cell_type": "code",
   "execution_count": 235,
   "metadata": {},
   "outputs": [
    {
     "name": "stdout",
     "output_type": "stream",
     "text": [
      "theta0 = [5.0166659] | theta1 = [100.] | theta2 = [79.80985552]\n"
     ]
    }
   ],
   "source": [
    "print(\"theta0 = {} | theta1 = {} | theta2 = {}\".format(theta[0], theta[1], theta[2]))"
   ]
  },
  {
   "cell_type": "markdown",
   "metadata": {},
   "source": [
    "### Cost History against iterations"
   ]
  },
  {
   "cell_type": "code",
   "execution_count": 236,
   "metadata": {
    "scrolled": false
   },
   "outputs": [
    {
     "data": {
      "text/plain": [
       "Text(0,0.5,'Cost')"
      ]
     },
     "execution_count": 236,
     "metadata": {},
     "output_type": "execute_result"
    },
    {
     "data": {
      "image/png": "[encoded data removed]",
      "text/plain": [
       "<Figure size 432x288 with 1 Axes>"
      ]
     },
     "metadata": {},
     "output_type": "display_data"
    }
   ],
   "source": [
    "cost_hist = np.array(cost_hist)\n",
    "iterations = np.arange(1, its+1)\n",
    "\n",
    "plt.plot(iterations, cost_hist)\n",
    "plt.xlabel(\"No. of iterations\")\n",
    "plt.ylabel(\"Cost\")"
   ]
  },
  {
   "cell_type": "code",
   "execution_count": 237,
   "metadata": {
    "scrolled": false
   },
   "outputs": [
    {
     "data": {
      "text/plain": [
       "Text(0,0.5,'y')"
      ]
     },
     "execution_count": 237,
     "metadata": {},
     "output_type": "execute_result"
    },
    {
     "data": {
      "image/png": "[encoded data removed]",
      "text/plain": [
       "<Figure size 432x288 with 1 Axes>"
      ]
     },
     "metadata": {},
     "output_type": "display_data"
    }
   ],
   "source": [
    "predicted_price = calculate_hypothesis(x, theta)\n",
    "# print(price)\n",
    "plt.scatter(x[:, 1], y)\n",
    "plt.plot(x[:, 1], predicted_price, color='r')\n",
    "\n",
    "plt.xlabel(\"x\")\n",
    "plt.ylabel(\"y\")"
   ]
  },
  {
   "cell_type": "code",
   "execution_count": null,
   "metadata": {},
   "outputs": [],
   "source": []
  },
  {
   "cell_type": "code",
   "execution_count": null,
   "metadata": {},
   "outputs": [],
   "source": []
  },
  {
   "cell_type": "code",
   "execution_count": null,
   "metadata": {},
   "outputs": [],
   "source": []
  },
  {
   "cell_type": "code",
   "execution_count": null,
   "metadata": {},
   "outputs": [],
   "source": []
  }
 ],
 "metadata": {
  "kernelspec": {
   "display_name": "Python 3",
   "language": "python",
   "name": "python3"
  },
  "language_info": {
   "codemirror_mode": {
    "name": "ipython",
    "version": 3
   },
   "file_extension": ".py",
   "mimetype": "text/x-python",
   "name": "python",
   "nbconvert_exporter": "python",
   "pygments_lexer": "ipython3",
   "version": "3.5.2"
  }
 },
 "nbformat": 4,
 "nbformat_minor": 2
}
