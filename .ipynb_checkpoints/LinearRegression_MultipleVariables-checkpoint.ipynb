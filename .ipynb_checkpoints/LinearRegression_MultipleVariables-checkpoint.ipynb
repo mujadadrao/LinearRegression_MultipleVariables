{
 "cells": [
  {
   "cell_type": "code",
   "execution_count": 228,
   "metadata": {},
   "outputs": [],
   "source": [
    "import numpy as np\n",
    "import pandas as pd\n",
    "import time\n",
    "import matplotlib.pyplot as plt\n",
    "%matplotlib inline"
   ]
  },
  {
   "cell_type": "markdown",
   "metadata": {},
   "source": [
    "### Generating the Data"
   ]
  },
  {
   "cell_type": "code",
   "execution_count": 229,
   "metadata": {},
   "outputs": [],
   "source": [
    "# A simple function getting data of predictors and responses from given file!\n",
    "def gen_data_from_file(filename='kc_house_data.csv', limit=10):\n",
    "    \n",
    "    #Total features to use\n",
    "    n = 2\n",
    "    \n",
    "    #Reading the data from csv\n",
    "    data = np.genfromtxt('kc_house_data.csv', delimiter=',')\n",
    "    \n",
    "    #Reading two features bedrooms and sqft_living\n",
    "    features = data[1:limit+1, [5,3]]\n",
    "        \n",
    "    #Adding constant feature x0\n",
    "    x = np.hstack((np.ones((limit, 1)), features))\n",
    "    \n",
    "    #Reading the predicting variable - price \n",
    "    y = data[1:limit+1, 2]\n",
    "    y = y.reshape(len(y), 1)\n",
    "    \n",
    "    return x, y, n"
   ]
  },
  {
   "cell_type": "code",
   "execution_count": 230,
   "metadata": {},
   "outputs": [],
   "source": [
    "# A simple function generating data of predictors and responses randomly!\n",
    "def gen_data_random(start=10, end=1000, step=2, normalized=False):\n",
    "    \n",
    "    x = np.array(range(start, end, step)).reshape(-1, 1)\n",
    "        \n",
    "    if normalized:\n",
    "        x = calculate_normalized(x)\n",
    "                \n",
    "    y = 10 + 2*x + 5*(x**2) - 400*(x**3) + 700*(x**4)\n",
    "    \n",
    "    return x, y"
   ]
  },
  {
   "cell_type": "markdown",
   "metadata": {},
   "source": [
    "### Function add Polynomial Features"
   ]
  },
  {
   "cell_type": "code",
   "execution_count": 280,
   "metadata": {},
   "outputs": [],
   "source": [
    "def add_polynomial_features(x1, degree=1, return_params=False):\n",
    "    \n",
    "    #Adding constant feature x0\n",
    "    x = np.hstack((np.ones(x1.shape), x1))\n",
    "\n",
    "    #Adding polynomial features\n",
    "    for degree in range (2, degree+1):\n",
    "        new_feature = np.power(x1, degree)\n",
    "        x = np.hstack((x, new_feature))\n",
    "    \n",
    "    params = np.ones((degree+1, 1))\n",
    "    \n",
    "    if return_params:\n",
    "        return x, params\n",
    "    \n",
    "    return x"
   ]
  },
  {
   "cell_type": "markdown",
   "metadata": {},
   "source": [
    "### Normalization Function - Calculation"
   ]
  },
  {
   "cell_type": "code",
   "execution_count": 232,
   "metadata": {},
   "outputs": [],
   "source": [
    "def calculate_normalized(feature):\n",
    "    \n",
    "    res = np.subtract(feature, np.mean(feature))\n",
    "    range_feature = np.max(feature)-np.min(feature)\n",
    "    res = np.divide(res, range_feature)\n",
    "    \n",
    "    return res"
   ]
  },
  {
   "cell_type": "markdown",
   "metadata": {},
   "source": [
    "### Normalization Function - Wrapper"
   ]
  },
  {
   "cell_type": "code",
   "execution_count": 233,
   "metadata": {},
   "outputs": [],
   "source": [
    "def normalize(x, y=None):\n",
    "    \n",
    "    #x.shape[1] = no. of columns = no, features\n",
    "    #starting from 1 to skip constant feature\n",
    "    for i in range(1, x.shape[1]):\n",
    "        x[:, i] = calculate_normalized(x[:, i])\n",
    "    \n",
    "    if y is not None:\n",
    "        #normalizing prediction variable  \n",
    "        y = calculate_normalized(y)\n",
    "        return x, y\n",
    "    \n",
    "    return x"
   ]
  },
  {
   "cell_type": "markdown",
   "metadata": {},
   "source": [
    "### Hypothesis Function"
   ]
  },
  {
   "cell_type": "code",
   "execution_count": 234,
   "metadata": {},
   "outputs": [],
   "source": [
    "def calculate_hypothesis(x, params):\n",
    "    \n",
    "    h_of_x = np.dot(x, params)\n",
    "    \n",
    "    return h_of_x"
   ]
  },
  {
   "cell_type": "markdown",
   "metadata": {},
   "source": [
    "### Cost Function "
   ]
  },
  {
   "cell_type": "code",
   "execution_count": 235,
   "metadata": {},
   "outputs": [],
   "source": [
    "def cost_function(x, y, params):\n",
    "    \n",
    "    #Total training examples\n",
    "    m = len(y)\n",
    "    \n",
    "    #Calculating hypothesis (predictions)\n",
    "    h = calculate_hypothesis(x, params)\n",
    "    \n",
    "    #Calculating cost\n",
    "    diff = np.subtract(h, y)\n",
    "    squared_sum = np.sum(np.square(diff))\n",
    "    cost = np.divide(squared_sum, m*2)\n",
    "        \n",
    "    return cost"
   ]
  },
  {
   "cell_type": "markdown",
   "metadata": {},
   "source": [
    "### Function to calculate Sum of Errors (formula) "
   ]
  },
  {
   "cell_type": "code",
   "execution_count": 236,
   "metadata": {},
   "outputs": [],
   "source": [
    "def calculate_sum_of_errors(x, y, params):\n",
    "\n",
    "    #hypothesis h(x)\n",
    "    h_of_x = calculate_hypothesis(x, params)\n",
    "        \n",
    "    #performing calculations\n",
    "    diff = np.subtract(h_of_x, y)\n",
    "    sum_of_errors = np.dot(x.transpose(), diff)\n",
    "\n",
    "    return sum_of_errors"
   ]
  },
  {
   "cell_type": "markdown",
   "metadata": {},
   "source": [
    "### Gradient Descent"
   ]
  },
  {
   "cell_type": "code",
   "execution_count": 263,
   "metadata": {},
   "outputs": [],
   "source": [
    "### Gradient Descent Function\n",
    "\n",
    "def gradient_descent(x, y, params, alpha=0.001, precision=0.000000001, tolerance=0.0001, iterations = 0):\n",
    "    \n",
    "    #Total count of training exmaples and features\n",
    "    m = len(y)\n",
    "    n = len(params)\n",
    "    \n",
    "    #Creating a list for storing our cost function history\n",
    "    cost_history = list()\n",
    "    \n",
    "    first_iteration = True\n",
    "    its = 0\n",
    "    iterate = False\n",
    "    \n",
    "    if iterations > 0:\n",
    "        iterate = True\n",
    "        \n",
    "    print(\"-- Gradient Descent Started --\\n\")\n",
    "    print(\"Initial Parameters: \\n\", params)\n",
    "    \n",
    "    \n",
    "    while True:\n",
    "        \n",
    "        gradients = np.multiply(calculate_sum_of_errors(x, y, params), 1/m)\n",
    "        res = np.multiply(gradients, alpha)\n",
    "        params = np.subtract(params, res)\n",
    "        \n",
    "        magnitude = np.sqrt(np.sum(np.square(gradients)))\n",
    "\n",
    "        #Keeping track of the history of cost\n",
    "        current_cost = cost_function(x, y, params)\n",
    "        \n",
    "#         if its%1000==0:\n",
    "#             print(current_cost)\n",
    "        \n",
    "        if magnitude <= tolerance:\n",
    "            print(\"\\nMagnitude condition satisfied - ending Gradient Descent\")\n",
    "            break\n",
    "        \n",
    "        if not(first_iteration) and ((cost_history[-1] - current_cost) <= precision):\n",
    "            print(\"\\nPrecision condition satisfied - ending Gradient Descent\")\n",
    "            break\n",
    "            \n",
    "                \n",
    "        if first_iteration:\n",
    "            first_iteration = False\n",
    "        \n",
    "        cost_history.append(current_cost)\n",
    "        \n",
    "        its +=1\n",
    "        \n",
    "        if iterate and (its == iterations):\n",
    "            print(\"\\nIterations completed - ending Gradient Descent\")\n",
    "            break\n",
    "            \n",
    "    print(\"\\n-- Gradient Descent Completed --\\n\")\n",
    "    \n",
    "    return params, cost_history, its\n",
    "    "
   ]
  },
  {
   "cell_type": "code",
   "execution_count": 238,
   "metadata": {},
   "outputs": [],
   "source": [
    "def plot(x, y, x_label=\"\", y_label=\"\", plot_type=\"scatter\", color='blue'):\n",
    "    \n",
    "    if plot_type == \"scatter\":\n",
    "        plt.scatter(x, y, color=color)\n",
    "    \n",
    "    elif plot_type == \"plot\":\n",
    "        plt.plot(x, y, color=color)\n",
    "    \n",
    "    plt.xlabel(x_label)\n",
    "    plt.ylabel(y_label)\n",
    "    "
   ]
  },
  {
   "cell_type": "code",
   "execution_count": 239,
   "metadata": {
    "scrolled": true
   },
   "outputs": [],
   "source": [
    "# #Reading data from a csv\n",
    "# x, y, n = gen_data_from_file(filename=\"kc_house_data.csv\", limit=100)\n",
    "# params = np.ones((n+1, 1)) #theta0 theta1 theta2"
   ]
  },
  {
   "cell_type": "code",
   "execution_count": 294,
   "metadata": {},
   "outputs": [],
   "source": [
    "#Generating random data and adding polynomial features\n",
    "x, y = gen_data_random(start=10, end=50, step=2, normalized=True)\n",
    "x, params = add_polynomial_features(x, degree=4, return_params=True)"
   ]
  },
  {
   "cell_type": "code",
   "execution_count": 295,
   "metadata": {
    "scrolled": false
   },
   "outputs": [
    {
     "data": {
      "image/png": "[encoded data removed]",
      "text/plain": [
       "<Figure size 432x288 with 1 Axes>"
      ]
     },
     "metadata": {},
     "output_type": "display_data"
    }
   ],
   "source": [
    "plot(x[:, 1], y, x_label=\"x\", y_label=\"y\")"
   ]
  },
  {
   "cell_type": "code",
   "execution_count": 301,
   "metadata": {
    "scrolled": false
   },
   "outputs": [
    {
     "name": "stdout",
     "output_type": "stream",
     "text": [
      "-- Gradient Descent Started --\n",
      "\n",
      "Initial Parameters: \n",
      " [[1.]\n",
      " [1.]\n",
      " [1.]\n",
      " [1.]\n",
      " [1.]]\n",
      "\n",
      "Precision condition satisfied - ending Gradient Descent\n",
      "\n",
      "-- Gradient Descent Completed --\n",
      "\n",
      "Obtained Parameters: \n",
      " [[   9.33232928]\n",
      " [   2.        ]\n",
      " [  29.19451672]\n",
      " [-400.        ]\n",
      " [ 597.44490594]]\n",
      "\n",
      "Cost on the newly obtained parameters:  0.16660893801327842\n",
      "\n",
      "Total iterations taken:  621044\n"
     ]
    }
   ],
   "source": [
    "new_params, cost_hist, its = gradient_descent(x, y, params.copy(), alpha=0.1, precision= 0.000001, tolerance=0.0001, iterations=0)\n",
    "\n",
    "print(\"Obtained Parameters: \\n\", new_params)\n",
    "print(\"\\nCost on the newly obtained parameters: \", cost_hist[-1])\n",
    "print(\"\\nTotal iterations taken: \", its)"
   ]
  },
  {
   "cell_type": "markdown",
   "metadata": {},
   "source": [
    "### Cost History against Iterations"
   ]
  },
  {
   "cell_type": "code",
   "execution_count": 302,
   "metadata": {
    "scrolled": true
   },
   "outputs": [
    {
     "data": {
      "image/png": "[encoded data removed]",
      "text/plain": [
       "<Figure size 432x288 with 1 Axes>"
      ]
     },
     "metadata": {},
     "output_type": "display_data"
    }
   ],
   "source": [
    "cost_hist = np.array(cost_hist)\n",
    "iterations = np.arange(1, its+1)\n",
    "plot(iterations, cost_hist, x_label=\"No. of iterations\", y_label=\"Cost\", plot_type=\"plot\")"
   ]
  },
  {
   "cell_type": "markdown",
   "metadata": {},
   "source": [
    "### Predicted Fit"
   ]
  },
  {
   "cell_type": "code",
   "execution_count": 303,
   "metadata": {},
   "outputs": [
    {
     "data": {
      "image/png": "[encoded data removed]",
      "text/plain": [
       "<Figure size 432x288 with 1 Axes>"
      ]
     },
     "metadata": {},
     "output_type": "display_data"
    }
   ],
   "source": [
    "predicted_price = calculate_hypothesis(x, new_params)\n",
    "plot(x[:, 1], y, plot_type=\"scatter\")\n",
    "plot(x[:, 1], predicted_price, x_label=\"sqft_living\", y_label=\"price\", plot_type=\"plot\")"
   ]
  },
  {
   "cell_type": "code",
   "execution_count": null,
   "metadata": {},
   "outputs": [],
   "source": []
  }
 ],
 "metadata": {
  "kernelspec": {
   "display_name": "Python 3",
   "language": "python",
   "name": "python3"
  },
  "language_info": {
   "codemirror_mode": {
    "name": "ipython",
    "version": 3
   },
   "file_extension": ".py",
   "mimetype": "text/x-python",
   "name": "python",
   "nbconvert_exporter": "python",
   "pygments_lexer": "ipython3",
   "version": "3.5.2"
  }
 },
 "nbformat": 4,
 "nbformat_minor": 2
}
